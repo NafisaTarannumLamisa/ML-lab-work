{
  "nbformat": 4,
  "nbformat_minor": 0,
  "metadata": {
    "colab": {
      "provenance": [],
      "authorship_tag": "ABX9TyN1uPJt3jnopqFL9jJ8/9Eg",
      "include_colab_link": true
    },
    "kernelspec": {
      "name": "python3",
      "display_name": "Python 3"
    },
    "language_info": {
      "name": "python"
    }
  },
  "cells": [
    {
      "cell_type": "markdown",
      "metadata": {
        "id": "view-in-github",
        "colab_type": "text"
      },
      "source": [
        "<a href=\"https://colab.research.google.com/github/NafisaTarannumLamisa/ML-lab-work/blob/main/Lec8.ipynb\" target=\"_parent\"><img src=\"https://colab.research.google.com/assets/colab-badge.svg\" alt=\"Open In Colab\"/></a>"
      ]
    },
    {
      "cell_type": "code",
      "execution_count": 1,
      "metadata": {
        "colab": {
          "base_uri": "https://localhost:8080/"
        },
        "id": "8TmEsuofgRzd",
        "outputId": "7b715b9d-9f92-49a5-a061-61c9bc5ebbc2"
      },
      "outputs": [
        {
          "output_type": "stream",
          "name": "stdout",
          "text": [
            "Output: 8\n"
          ]
        }
      ],
      "source": [
        "#Write a recursive function to calculate x raised to the power of n. Input: x = 2, n = 3; Output: 8\n",
        "\n",
        "def power(x, n):\n",
        "    if n == 0:\n",
        "        return 1\n",
        "    return x * power(x, n - 1)\n",
        "\n",
        "#example usage\n",
        "x = 2\n",
        "n = 3\n",
        "result = power(x, n)\n",
        "print(\"Output:\", result)\n"
      ]
    }
  ]
}