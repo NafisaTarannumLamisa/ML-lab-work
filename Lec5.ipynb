{
  "nbformat": 4,
  "nbformat_minor": 0,
  "metadata": {
    "colab": {
      "provenance": [],
      "authorship_tag": "ABX9TyNf56HhdJh8WGsnpNsS0eEm",
      "include_colab_link": true
    },
    "kernelspec": {
      "name": "python3",
      "display_name": "Python 3"
    },
    "language_info": {
      "name": "python"
    }
  },
  "cells": [
    {
      "cell_type": "markdown",
      "metadata": {
        "id": "view-in-github",
        "colab_type": "text"
      },
      "source": [
        "<a href=\"https://colab.research.google.com/github/NafisaTarannumLamisa/ML-lab-work/blob/main/Lec5.ipynb\" target=\"_parent\"><img src=\"https://colab.research.google.com/assets/colab-badge.svg\" alt=\"Open In Colab\"/></a>"
      ]
    },
    {
      "cell_type": "code",
      "execution_count": 1,
      "metadata": {
        "colab": {
          "base_uri": "https://localhost:8080/"
        },
        "id": "dwdmG23j738k",
        "outputId": "eced44f6-abbc-4171-c550-8fbb1ce0e31d"
      },
      "outputs": [
        {
          "output_type": "stream",
          "name": "stdout",
          "text": [
            "{'Name': 'Nafisa', 'ID': 'UG02-59-22-003', 'Dept': 'CSE', 'Phone number': '019......', 'City': 'Dhaka'}\n"
          ]
        }
      ],
      "source": [
        "#Creating a dictionary\n",
        "\n",
        "personal_info = {\n",
        "    \"Name\": \"Nafisa\",\n",
        "    \"ID\": \"UG02-59-22-003\",\n",
        "    \"Dept\": \"CSE\",\n",
        "    \"Phone number\": \"019......\",\n",
        "    \"City\": \"Dhaka\"\n",
        "}\n",
        "\n",
        "print(personal_info)"
      ]
    },
    {
      "cell_type": "code",
      "source": [
        "##Write a program to find the key in a dictionary that has the maximum value.\n",
        "##Input: {‘a’: 10, ‘b’: 20, ‘c’: 15}\n",
        "##Output: ‘b’\n",
        "\n",
        "input = {'a': 10, 'b': 20, 'c': 15}\n",
        "\n",
        "# Find the key with the maximum value\n",
        "max_value = max(input, key=input.get)\n",
        "\n",
        "print(max_value)\n"
      ],
      "metadata": {
        "colab": {
          "base_uri": "https://localhost:8080/"
        },
        "id": "QKW1A_7V80FD",
        "outputId": "79e650fb-9c4e-4f6c-aec9-b7df7bdb2d2e"
      },
      "execution_count": 2,
      "outputs": [
        {
          "output_type": "stream",
          "name": "stdout",
          "text": [
            "b\n"
          ]
        }
      ]
    }
  ]
}