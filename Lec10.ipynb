{
  "nbformat": 4,
  "nbformat_minor": 0,
  "metadata": {
    "colab": {
      "provenance": [],
      "authorship_tag": "ABX9TyPOqNannJ1v65xMuKeuf7uC",
      "include_colab_link": true
    },
    "kernelspec": {
      "name": "python3",
      "display_name": "Python 3"
    },
    "language_info": {
      "name": "python"
    }
  },
  "cells": [
    {
      "cell_type": "markdown",
      "metadata": {
        "id": "view-in-github",
        "colab_type": "text"
      },
      "source": [
        "<a href=\"https://colab.research.google.com/github/NafisaTarannumLamisa/ML-lab-work/blob/main/Lec10.ipynb\" target=\"_parent\"><img src=\"https://colab.research.google.com/assets/colab-badge.svg\" alt=\"Open In Colab\"/></a>"
      ]
    },
    {
      "cell_type": "code",
      "execution_count": 2,
      "metadata": {
        "colab": {
          "base_uri": "https://localhost:8080/"
        },
        "id": "ECP8E1Uxibgw",
        "outputId": "713a4b2f-01ac-4fa0-bd40-6175eab5dcab"
      },
      "outputs": [
        {
          "output_type": "stream",
          "name": "stdout",
          "text": [
            "3\n",
            "3\n"
          ]
        }
      ],
      "source": [
        "#Using classmethod() function\n",
        "\n",
        "class Employee:\n",
        "  empCount = 0\n",
        "  def __init__(self, name, age):\n",
        "    self.__name = name\n",
        "    self.__age = age\n",
        "    Employee.empCount += 1\n",
        "  def showCount(self):\n",
        "    print (self.empCount)\n",
        "\n",
        "  counter = classmethod(showCount)\n",
        "\n",
        "\n",
        "e1 = Employee(\"Mr. A\", 21)\n",
        "e2 = Employee(\"Mr. B\", 22)\n",
        "e3 = Employee(\"Mr. C\", 23)\n",
        "\n",
        "e1.showCount()\n",
        "Employee.counter()\n",
        "\n"
      ]
    }
  ]
}