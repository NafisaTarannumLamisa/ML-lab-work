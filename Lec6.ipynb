{
  "nbformat": 4,
  "nbformat_minor": 0,
  "metadata": {
    "colab": {
      "provenance": [],
      "authorship_tag": "ABX9TyPCdBpDIeo8tRzrz6Q9XLuj",
      "include_colab_link": true
    },
    "kernelspec": {
      "name": "python3",
      "display_name": "Python 3"
    },
    "language_info": {
      "name": "python"
    }
  },
  "cells": [
    {
      "cell_type": "markdown",
      "metadata": {
        "id": "view-in-github",
        "colab_type": "text"
      },
      "source": [
        "<a href=\"https://colab.research.google.com/github/NafisaTarannumLamisa/ML-lab-work/blob/main/Lec6.ipynb\" target=\"_parent\"><img src=\"https://colab.research.google.com/assets/colab-badge.svg\" alt=\"Open In Colab\"/></a>"
      ]
    },
    {
      "cell_type": "code",
      "execution_count": 9,
      "metadata": {
        "colab": {
          "base_uri": "https://localhost:8080/"
        },
        "id": "W815GwQV-1KJ",
        "outputId": "5dc23021-7e76-4bb2-89b8-e9ba249bb1c6"
      },
      "outputs": [
        {
          "output_type": "stream",
          "name": "stdout",
          "text": [
            "Is 67 prime? True\n"
          ]
        }
      ],
      "source": [
        "#Program to check if a number is Prime\n",
        "\n",
        "def is_prime(n):\n",
        "  if n <=1:\n",
        "    return False\n",
        "  for i in range(2, int(n**0.5) + 1):\n",
        "    if n % i == 0:\n",
        "      return False\n",
        "  return True\n",
        "\n",
        "#Example\n",
        "\n",
        "number = 67\n",
        "print(f\"Is {number} prime? {is_prime(number)}\")\n"
      ]
    }
  ]
}