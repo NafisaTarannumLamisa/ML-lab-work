{
  "nbformat": 4,
  "nbformat_minor": 0,
  "metadata": {
    "colab": {
      "provenance": [],
      "authorship_tag": "ABX9TyPgcrwvwoF2YYP2UYpaCvZ7",
      "include_colab_link": true
    },
    "kernelspec": {
      "name": "python3",
      "display_name": "Python 3"
    },
    "language_info": {
      "name": "python"
    }
  },
  "cells": [
    {
      "cell_type": "markdown",
      "metadata": {
        "id": "view-in-github",
        "colab_type": "text"
      },
      "source": [
        "<a href=\"https://colab.research.google.com/github/NafisaTarannumLamisa/ML-lab-work/blob/main/Lec1.ipynb\" target=\"_parent\"><img src=\"https://colab.research.google.com/assets/colab-badge.svg\" alt=\"Open In Colab\"/></a>"
      ]
    },
    {
      "cell_type": "code",
      "execution_count": 1,
      "metadata": {
        "colab": {
          "base_uri": "https://localhost:8080/"
        },
        "id": "9gmIHmO0r12j",
        "outputId": "423bc871-379f-4a0c-ba8f-f8c2d0eb04b0"
      },
      "outputs": [
        {
          "output_type": "stream",
          "name": "stdout",
          "text": [
            "Enter the value of a: 20\n",
            "Enter the value of b: 5\n",
            "Sum:  25\n",
            "Substraction:  15\n",
            "Multiplication:  100\n",
            "Division:  4.0\n",
            "Modulo:  0\n",
            "Power:  3200000\n"
          ]
        }
      ],
      "source": [
        "#a simple program to perform arithmatic operations\n",
        "\n",
        "a = int(input('Enter the value of a: '))\n",
        "b = int(input('Enter the value of b: '))\n",
        "\n",
        "print ('Sum: ', a+b) #addition\n",
        "print ('Substraction: ', a-b) #substraction\n",
        "print ('Multiplication: ', a*b) #multiplication\n",
        "print ('Division: ', a/b) #divison\n",
        "print ('Modulo: ', a%b) #modulo\n",
        "print ('Power: ', a**b) #a to the power b"
      ]
    }
  ]
}