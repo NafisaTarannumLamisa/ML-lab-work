{
  "nbformat": 4,
  "nbformat_minor": 0,
  "metadata": {
    "colab": {
      "provenance": [],
      "authorship_tag": "ABX9TyPX810OZAyIr45xz/2EpZXa",
      "include_colab_link": true
    },
    "kernelspec": {
      "name": "python3",
      "display_name": "Python 3"
    },
    "language_info": {
      "name": "python"
    }
  },
  "cells": [
    {
      "cell_type": "markdown",
      "metadata": {
        "id": "view-in-github",
        "colab_type": "text"
      },
      "source": [
        "<a href=\"https://colab.research.google.com/github/NafisaTarannumLamisa/ML-lab-work/blob/main/Lec9.ipynb\" target=\"_parent\"><img src=\"https://colab.research.google.com/assets/colab-badge.svg\" alt=\"Open In Colab\"/></a>"
      ]
    },
    {
      "cell_type": "code",
      "execution_count": null,
      "metadata": {
        "colab": {
          "base_uri": "https://localhost:8080/"
        },
        "id": "3QPbN7_7ifje",
        "outputId": "75e1070b-6ac4-4b68-a3e6-77cb48dc4721"
      },
      "outputs": [
        {
          "output_type": "stream",
          "name": "stdout",
          "text": [
            "Original list: [-2, 0, 5, 9, 23, 46, 51, 87, 90, 72]\n",
            "After appending 37: [-2, 0, 5, 9, 23, 46, 51, 87, 90, 72, 37]\n",
            "After inserting -9 at index 6: [-2, 0, 5, 9, 23, 46, -9, 51, 87, 90, 72, 37]\n",
            "After removing 23: [-2, 0, 5, 9, 46, -9, 51, 87, 90, 72, 37]\n",
            "After popping element at index 1: [-2, 5, 9, 46, -9, 51, 87, 90, 72, 37]\n"
          ]
        }
      ],
      "source": [
        "#Write a Python program to create a list of 10 integers. Then perform the following operations:\n",
        "#1.Append an element to the list.\n",
        "#2.Insert an element at a specific position.\n",
        "#3.Remove an element from the list.\n",
        "#4.Pop an element from a specific position\n",
        "\n",
        "\n",
        "#Create a list of 10 integers\n",
        "my_list = [-2,0,5,9,23,46,51,87,90,72]\n",
        "print(\"Original list:\", my_list)\n",
        "\n",
        "#Append an element to the list\n",
        "my_list.append(37)\n",
        "print(\"After appending 37:\", my_list)\n",
        "\n",
        "#Insert an element at a specific position (e.g., insert -9 at index 6)\n",
        "my_list.insert(6, -9)\n",
        "print(\"After inserting -9 at index 6:\", my_list)\n",
        "\n",
        "#Remove an element from the list (e.g., remove value 23)\n",
        "my_list.remove(23)\n",
        "print(\"After removing 23:\", my_list)\n",
        "\n",
        "#Pop an element from a specific position (e.g., index 1)\n",
        "popped_element = my_list.pop(1)\n",
        "print(\"After popping element at index 1:\", my_list)\n",
        "\n"
      ]
    }
  ]
}