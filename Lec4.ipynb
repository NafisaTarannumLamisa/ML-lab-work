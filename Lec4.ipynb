{
  "nbformat": 4,
  "nbformat_minor": 0,
  "metadata": {
    "colab": {
      "provenance": [],
      "authorship_tag": "ABX9TyNZF1DRNu6NfbcRSrpLYLrd",
      "include_colab_link": true
    },
    "kernelspec": {
      "name": "python3",
      "display_name": "Python 3"
    },
    "language_info": {
      "name": "python"
    }
  },
  "cells": [
    {
      "cell_type": "markdown",
      "metadata": {
        "id": "view-in-github",
        "colab_type": "text"
      },
      "source": [
        "<a href=\"https://colab.research.google.com/github/NafisaTarannumLamisa/ML-lab-work/blob/main/Lec4.ipynb\" target=\"_parent\"><img src=\"https://colab.research.google.com/assets/colab-badge.svg\" alt=\"Open In Colab\"/></a>"
      ]
    },
    {
      "cell_type": "code",
      "execution_count": 1,
      "metadata": {
        "colab": {
          "base_uri": "https://localhost:8080/"
        },
        "id": "AU3UqQVi41nA",
        "outputId": "d985d4f6-fb82-428d-d479-6eb0f6d09dd8"
      },
      "outputs": [
        {
          "output_type": "stream",
          "name": "stdout",
          "text": [
            "Enter elements separated by spaces: 98 23 425 23 2 -5 9 3 0 -4 29 74\n",
            "Sorted list in ascending order:  [-5, -4, 0, 2, 3, 9, 23, 23, 29, 74, 98, 425]\n",
            "Sorted list in descending order:  [425, 98, 74, 29, 23, 23, 9, 3, 2, 0, -4, -5]\n"
          ]
        }
      ],
      "source": [
        "#Sort a list in Ascending & Descending order\n",
        "\n",
        "my_list = input(\"Enter elements separated by spaces: \").split()\n",
        "my_list = [int(x) for x in my_list]\n",
        "\n",
        "my_list.sort()\n",
        "print(\"Sorted list in ascending order: \" , my_list)\n",
        "\n",
        "my_list.sort(reverse=True)\n",
        "print(\"Sorted list in descending order: \" , my_list)"
      ]
    }
  ]
}