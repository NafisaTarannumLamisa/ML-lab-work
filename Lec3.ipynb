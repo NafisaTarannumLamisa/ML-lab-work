{
  "nbformat": 4,
  "nbformat_minor": 0,
  "metadata": {
    "colab": {
      "provenance": [],
      "authorship_tag": "ABX9TyN8eix8JG9sEwgCInemPaz6",
      "include_colab_link": true
    },
    "kernelspec": {
      "name": "python3",
      "display_name": "Python 3"
    },
    "language_info": {
      "name": "python"
    }
  },
  "cells": [
    {
      "cell_type": "markdown",
      "metadata": {
        "id": "view-in-github",
        "colab_type": "text"
      },
      "source": [
        "<a href=\"https://colab.research.google.com/github/NafisaTarannumLamisa/ML-lab-work/blob/main/Lec3.ipynb\" target=\"_parent\"><img src=\"https://colab.research.google.com/assets/colab-badge.svg\" alt=\"Open In Colab\"/></a>"
      ]
    },
    {
      "cell_type": "code",
      "execution_count": 2,
      "metadata": {
        "colab": {
          "base_uri": "https://localhost:8080/"
        },
        "id": "Hrws88Qvy71u",
        "outputId": "f46cb8a9-d867-4eb9-cc45-8cda85a35cf8"
      },
      "outputs": [
        {
          "output_type": "stream",
          "name": "stdout",
          "text": [
            "1\n",
            "3\n",
            "5\n",
            "7\n",
            "9\n"
          ]
        }
      ],
      "source": [
        "#Simple program to print odd numbers from 1 to 10\n",
        "\n",
        "num = 0\n",
        "while num<10:\n",
        "  num+= 1\n",
        "\n",
        "  if (num % 2) == 0:\n",
        "      continue\n",
        "\n",
        "  print(num)\n"
      ]
    },
    {
      "cell_type": "code",
      "source": [
        "#Simple Guess game where the user has to guess a secret number\n",
        "\n",
        "\n",
        "secret_number = 54\n",
        "guess = None\n",
        "\n",
        "while guess != secret_number:\n",
        "  guess = int(input('Guess the number(between 1 to 100): '))\n",
        "  if guess < secret_number:\n",
        "    print('Too low!')\n",
        "  elif guess > secret_number:\n",
        "    print('Too high!')\n",
        "  else:\n",
        "    print('Congratulations! You guessed the right number')\n",
        "\n"
      ],
      "metadata": {
        "colab": {
          "base_uri": "https://localhost:8080/"
        },
        "id": "Jl6k1B_v0Cus",
        "outputId": "e295c238-aa76-4888-969c-552515d9c61e"
      },
      "execution_count": 8,
      "outputs": [
        {
          "output_type": "stream",
          "name": "stdout",
          "text": [
            "Guess the number(between 1 to 100): 43\n",
            "Too low!\n",
            "Guess the number(between 1 to 100): 65\n",
            "Too high!\n",
            "Guess the number(between 1 to 100): 50\n",
            "Too low!\n",
            "Guess the number(between 1 to 100): 54\n",
            "Congratulations! You guessed the right number\n"
          ]
        }
      ]
    }
  ]
}